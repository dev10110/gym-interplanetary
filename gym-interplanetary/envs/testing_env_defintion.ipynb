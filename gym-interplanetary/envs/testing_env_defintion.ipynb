{
 "cells": [
  {
   "cell_type": "code",
   "execution_count": 1,
   "metadata": {},
   "outputs": [
    {
     "name": "stderr",
     "output_type": "stream",
     "text": [
      "WARNING: AstropyDeprecationWarning: astropy.extern.six will be removed in 4.0, use the six module directly if it is still needed [astropy.extern.six]\n"
     ]
    }
   ],
   "source": [
    "import poliastro as pa\n",
    "\n",
    "import astropy.units as u\n",
    "from astropy import time\n",
    "\n",
    "from poliastro.bodies import Earth, Mars, Sun\n",
    "from poliastro.twobody import Orbit\n",
    "\n",
    "from poliastro.plotting import OrbitPlotter3D\n",
    "\n",
    "import numpy as np"
   ]
  },
  {
   "cell_type": "code",
   "execution_count": 2,
   "metadata": {},
   "outputs": [],
   "source": [
    "import sys\n",
    "import warnings\n",
    "\n",
    "if not sys.warnoptions:\n",
    "    warnings.simplefilter(\"ignore\")"
   ]
  },
  {
   "cell_type": "code",
   "execution_count": 3,
   "metadata": {},
   "outputs": [
    {
     "data": {
      "text/plain": [
       "<ScienceState solar_system_ephemeris: 'jpl'>"
      ]
     },
     "execution_count": 3,
     "metadata": {},
     "output_type": "execute_result"
    }
   ],
   "source": [
    "from astropy.coordinates import solar_system_ephemeris\n",
    "solar_system_ephemeris.set(\"jpl\")"
   ]
  },
  {
   "cell_type": "code",
   "execution_count": 18,
   "metadata": {},
   "outputs": [],
   "source": [
    "class Env():\n",
    "    def __init__(self):\n",
    "        \n",
    "        self.nond_l = (1*u.AU).decompose()\n",
    "        self.nond_v = ((Sun.k/self.nond_l)**0.5).decompose()\n",
    "        self.nond_t = (self.nond_l/self.nond_v).decompose()\n",
    "        \n",
    "        self.nond_m = 525.2*u.kg\n",
    "        self.T_max = 2*u.N\n",
    "        self.c = 2500*10*u.m/u.s\n",
    "        \n",
    "        self.accel_factor = ((self.T_max*self.nond_t)/(self.nond_m*self.nond_v)).decompose().value\n",
    "        self.mdot_factor = ((self.T_max*self.nond_t)/(self.nond_m*self.c)).decompose().value\n",
    "        \n",
    "        self.dt = ((15*u.day)/self.nond_t).decompose().value\n",
    "        \n",
    "        self.target_time = 302*u.day\n",
    "    \n",
    "    def get_final_loc(self, tof):\n",
    "        \n",
    "        date = self.t_ref + tof*self.nond_t\n",
    "        \n",
    "        ss_mars  = Orbit.from_body_ephem(Mars, date)\n",
    "        \n",
    "        r1, v1 = ss_mars.rv()\n",
    "        \n",
    "        r1 = (r1/self.nond_l).decompose().value\n",
    "        v1 = (v1/self.nond_v).decompose().value\n",
    "        \n",
    "        return r1, v1\n",
    "    \n",
    "    def reset(self):\n",
    "        \n",
    "        date_launch = time.Time(2454396.30662312, format='jd') #used in linares paper\n",
    "        \n",
    "        self.t_ref = date_launch\n",
    "        \n",
    "        #todo: if we change the t_ref and date_launch, we need to update this.\n",
    "        tof = 0. #((date_launch - self.t_ref)/self.nond_t).decompose().value #non dimensional flight time elapsed\n",
    "        \n",
    "        \n",
    "        ss_earth = Orbit.from_body_ephem(Earth, date_launch)\n",
    "        ss_mars  = Orbit.from_body_ephem(Mars,  date_launch)\n",
    "\n",
    "        r0, v0 = ss_earth.rv()\n",
    "        r1, v1 = ss_mars.rv()\n",
    "        \n",
    "        r0 = (r0/self.nond_l).decompose().value\n",
    "        v0 = (v0/self.nond_v).decompose().value\n",
    "        \n",
    "        r1 = (r1/self.nond_l).decompose().value\n",
    "        v1 = (v1/self.nond_v).decompose().value\n",
    "        \n",
    "        m0 = 1.\n",
    "        \n",
    "        state = np.array(r0)\n",
    "        state = np.append(state, v0)\n",
    "        state = np.append(state, m0)\n",
    "        state = np.append(state, r1-r0)\n",
    "        state = np.append(state, v1-v0)\n",
    "        state = np.append(state, tof)\n",
    "        \n",
    "        env.state = state\n",
    "        \n",
    "        return state\n",
    "    \n",
    "    def step(self, thrust):\n",
    "        \n",
    "        done = False\n",
    "        info =  None\n",
    "        \n",
    "        state = env.state\n",
    "        \n",
    "        r0  = state[:3]\n",
    "        v0  = state[3:6]\n",
    "        m0  = state[6]\n",
    "        rd  = state[7:10]\n",
    "        vd  = state[10:13]\n",
    "        tof = state[13]\n",
    "        \n",
    "        \n",
    "        \n",
    "        # action represents the thrust in the three directions (non-dimensionalized)\n",
    "        \n",
    "        \n",
    "        \n",
    "        # ---- dynamics\n",
    "        \n",
    "        #dt = self.dt/100\n",
    "        \n",
    "        #a = (thrust/m0)*self.accel_factor\n",
    "        \n",
    "        #hack to allow for finer time steps in simulation\n",
    "        #for _ in range(100):\n",
    "          #  r0dot = v0\n",
    "         #   v0dot = a - r0*np.linalg.norm(r0)**-3\n",
    "           # mdot  = -np.linalg.norm(thrust)*self.mdot_factor\n",
    "\n",
    "\n",
    "            #r0 = r0 + r0dot*dt\n",
    "            #v0 = v0 + v0dot*dt\n",
    "           # m0 = m0 + mdot*dt\n",
    "           # tof = tof + dt\n",
    "        \n",
    "        #dt = self.dt\n",
    "        def create_ad(thrust, m):\n",
    "            # take in nond-thrust and nond-m\n",
    "            # return dimensional acceleration\n",
    "            accel_km_ss = ((thrust*self.T_max)/(m*self.nond_m)).to(u.km/u.s**2).value\n",
    "            \n",
    "            def ad(t0, u_, k_):\n",
    "                return accel_km_ss\n",
    "            \n",
    "            return ad\n",
    "        \n",
    "        ad = create_ad(thrust, m0)\n",
    "        \n",
    "        tofs = [self.dt]*env.nond_t\n",
    "        \n",
    "        r0s, v0s = pa.twobody.propagation.cowell(Sun.k, r=s[:3]*env.nond_l, v=s[3:6]*env.nond_v, tofs=tofs, ad=ad)\n",
    "        \n",
    "        r0 = (r0s[0]/self.nond_l).decompose().value\n",
    "        v0 = (v0s[0]/self.nond_v).decompose().value\n",
    "        \n",
    "        tof = tof + self.dt\n",
    "        \n",
    "        r1, v1 = self.get_final_loc(tof)\n",
    "        \n",
    "        #return [new_r0, new_v0, [new_m0], new_r1-new_r0, new_v1 - new_v0, [new_tof]]\n",
    "        \n",
    "        new_state = np.concatenate([r0, v0, [m0], r1-r0, v1 - v0, [tof]])\n",
    "        \n",
    "        env.state = new_state\n",
    "        \n",
    "        #compute rewards\n",
    "        \n",
    "        c1, c2, c3, c4, c5, c6 = 0.5, -500, -0.05, -500, 0.25, 0.25\n",
    "        \n",
    "        \n",
    "        norm_r_error = np.linalg.norm(r1-r0)\n",
    "        norm_v_error = np.linalg.norm(v1-v0)\n",
    "        \n",
    "        reward = - norm_r_error - norm_v_error\n",
    "        \n",
    "        reward += c1*np.exp(c2*norm_r_error)\n",
    "        reward += c2*np.exp(c4*norm_v_error)\n",
    "        \n",
    "        # mass reward\n",
    "        reward -= c5*(1-m0)\n",
    "        \n",
    "        # time reward\n",
    "        reward -= (abs(self.target_time - tof*self.nond_t)).to(u.day).value if norm_r_error < 0.25 else 0\n",
    "        \n",
    "        # bound penalty\n",
    "        norm_r = np.linalg.norm(r0)\n",
    "        norm_v = np.linalg.norm(v0)\n",
    "        \n",
    "        if norm_r < 0.25 or norm_r > 1.75:\n",
    "            reward -= 20\n",
    "            done = True\n",
    "            info = {'reason':'norm r bounds'}\n",
    "        \n",
    "        #if abs(r0[2]) > 0.75:\n",
    "         #   reward -= 20\n",
    "          #  done = True\n",
    "           # info = {'reason':'z bounds'}\n",
    "            \n",
    "        # terminate if the tof is too large\n",
    "        if abs((self.target_time/self.nond_t).decompose().value - tof) < self.dt:\n",
    "            done = True\n",
    "            info = {'reason':'tof bounds'}\n",
    "        \n",
    "        return new_state, reward, done, info\n",
    "    \n",
    "        #todo\n",
    "        \n",
    "        "
   ]
  },
  {
   "cell_type": "code",
   "execution_count": 19,
   "metadata": {},
   "outputs": [],
   "source": [
    "env = Env()"
   ]
  },
  {
   "cell_type": "code",
   "execution_count": 20,
   "metadata": {},
   "outputs": [],
   "source": [
    "s = env.reset()"
   ]
  },
  {
   "cell_type": "code",
   "execution_count": 21,
   "metadata": {},
   "outputs": [
    {
     "name": "stdout",
     "output_type": "stream",
     "text": [
      "{'reason': 'norm r bounds'}\n",
      "-439.6126417018067\n"
     ]
    }
   ],
   "source": [
    "# forward simulate\n",
    "pos_hist = []\n",
    "s = env.reset()\n",
    "pos_hist.append(s[:3])\n",
    "\n",
    "R = 0\n",
    "for t in range(36):\n",
    "    \n",
    "    #action = np.array([0.1,0.1,0.1])\n",
    "    action = np.random.rand(3)\n",
    "    \n",
    "    s, r, d, info = env.step(action)\n",
    "    R += r\n",
    "    pos_hist.append(s[:3])\n",
    "    \n",
    "    if d:\n",
    "        print(info)\n",
    "        break\n",
    "        \n",
    "print(R)\n",
    "    \n",
    "    "
   ]
  },
  {
   "cell_type": "code",
   "execution_count": 22,
   "metadata": {},
   "outputs": [
    {
     "data": {
      "text/plain": [
       "11"
      ]
     },
     "execution_count": 22,
     "metadata": {},
     "output_type": "execute_result"
    }
   ],
   "source": [
    "len(pos_hist)"
   ]
  },
  {
   "cell_type": "code",
   "execution_count": 23,
   "metadata": {},
   "outputs": [
    {
     "data": {
      "application/vnd.jupyter.widget-view+json": {
       "model_id": "49effd0adab949f98ddcd7233b134cc4",
       "version_major": 2,
       "version_minor": 0
      },
      "text/plain": [
       "FigureWidget({\n",
       "    'data': [{'line': {'color': 'rgb(31, 119, 180)', 'dash': 'dash', 'width': 5},\n",
       "             …"
      ]
     },
     "metadata": {},
     "output_type": "display_data"
    }
   ],
   "source": [
    "from poliastro.plotting import OrbitPlotter3D\n",
    "\n",
    "frame = OrbitPlotter3D()\n",
    "\n",
    "frame.plot(Orbit.from_body_ephem(Earth))\n",
    "frame.plot(Orbit.from_body_ephem(Mars))\n",
    "for i, pos in enumerate(pos_hist):\n",
    "    c = pos*env.nond_l\n",
    "    frame._plot_sphere(0.03*u.AU, color='red', name='Traj', center = c);\n",
    "frame.show()"
   ]
  },
  {
   "cell_type": "code",
   "execution_count": 28,
   "metadata": {},
   "outputs": [
    {
     "data": {
      "text/plain": [
       "array([ 1.30414460e+08,  1.09518728e+08,  8.68405157e+07,  6.19175330e+07,\n",
       "        3.70780894e+07,  1.64671070e+07,  2.31827463e+03, -1.28586322e+07,\n",
       "       -2.29583723e+07])"
      ]
     },
     "execution_count": 28,
     "metadata": {},
     "output_type": "execute_result"
    }
   ],
   "source": [
    "x"
   ]
  },
  {
   "cell_type": "code",
   "execution_count": 27,
   "metadata": {},
   "outputs": [
    {
     "data": {
      "image/png": "[encoded data removed]",
      "text/plain": [
       "<Figure size 432x432 with 1 Axes>"
      ]
     },
     "metadata": {
      "needs_background": "light"
     },
     "output_type": "display_data"
    }
   ],
   "source": [
    "from poliastro.plotting.static import StaticOrbitPlotter\n",
    "\n",
    "frame = StaticOrbitPlotter()\n",
    "\n",
    "frame.plot(Orbit.from_body_ephem(Earth))\n",
    "frame.plot(Orbit.from_body_ephem(Mars))\n",
    "\n",
    "\n",
    "\n",
    "frame.ax.grid()\n",
    "\n"
   ]
  },
  {
   "cell_type": "code",
   "execution_count": 11,
   "metadata": {},
   "outputs": [],
   "source": [
    "x = np.array([(pos[0]*env.nond_l).to(u.km).value for pos in pos_hist])\n",
    "y = np.array([(pos[1]*env.nond_l).to(u.km).value for pos in pos_hist])\n",
    "z = np.array([(pos[2]*env.nond_l).to(u.km).value for pos in pos_hist])"
   ]
  },
  {
   "cell_type": "code",
   "execution_count": 12,
   "metadata": {},
   "outputs": [],
   "source": [
    "import matplotlib.pyplot as plt"
   ]
  },
  {
   "cell_type": "code",
   "execution_count": 13,
   "metadata": {},
   "outputs": [
    {
     "data": {
      "text/plain": [
       "<mpl_toolkits.mplot3d.art3d.Path3DCollection at 0x1324c3668>"
      ]
     },
     "execution_count": 13,
     "metadata": {},
     "output_type": "execute_result"
    },
    {
     "data": {
      "image/png": "[encoded data removed]",
      "text/plain": [
       "<Figure size 432x288 with 1 Axes>"
      ]
     },
     "metadata": {
      "needs_background": "light"
     },
     "output_type": "display_data"
    }
   ],
   "source": [
    "from mpl_toolkits import mplot3d\n",
    "ax = plt.axes(projection='3d')\n",
    "ax.plot3D(x,y,z)\n",
    "ax.scatter3D([0],[0],[0])"
   ]
  },
  {
   "cell_type": "code",
   "execution_count": null,
   "metadata": {},
   "outputs": [],
   "source": []
  }
 ],
 "metadata": {
  "kernelspec": {
   "display_name": "Python 3",
   "language": "python",
   "name": "python3"
  },
  "language_info": {
   "codemirror_mode": {
    "name": "ipython",
    "version": 3
   },
   "file_extension": ".py",
   "mimetype": "text/x-python",
   "name": "python",
   "nbconvert_exporter": "python",
   "pygments_lexer": "ipython3",
   "version": "3.6.7"
  }
 },
 "nbformat": 4,
 "nbformat_minor": 2
}

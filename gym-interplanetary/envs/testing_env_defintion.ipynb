{
 "cells": [
  {
   "cell_type": "code",
   "execution_count": 88,
   "metadata": {},
   "outputs": [],
   "source": [
    "import poliastro as pa\n",
    "\n",
    "import astropy.units as u\n",
    "from astropy import time\n",
    "\n",
    "from poliastro.bodies import Earth, Mars, Sun\n",
    "from poliastro.twobody import Orbit\n",
    "\n",
    "from poliastro.plotting import OrbitPlotter3D\n",
    "\n",
    "import numpy as np"
   ]
  },
  {
   "cell_type": "code",
   "execution_count": 89,
   "metadata": {},
   "outputs": [
    {
     "data": {
      "text/plain": [
       "<ScienceState solar_system_ephemeris: 'jpl'>"
      ]
     },
     "execution_count": 89,
     "metadata": {},
     "output_type": "execute_result"
    }
   ],
   "source": [
    "from astropy.coordinates import solar_system_ephemeris\n",
    "solar_system_ephemeris.set(\"jpl\")"
   ]
  },
  {
   "cell_type": "code",
   "execution_count": null,
   "metadata": {},
   "outputs": [],
   "source": []
  },
  {
   "cell_type": "code",
   "execution_count": 131,
   "metadata": {},
   "outputs": [],
   "source": [
    "class Env():\n",
    "    def __init__(self):\n",
    "        \n",
    "        self.nond_l = 1*u.AU\n",
    "        self.nond_v = (Sun.k/self.nond_l)**0.5\n",
    "        self.nond_t = self.nond_l/self.nond_v\n",
    "        \n",
    "        self.nond_m = 525.2*u.kg\n",
    "        self.T_max = 2*u.N\n",
    "        self.c = 2500*10*u.m/u.s**2\n",
    "        \n",
    "        \n",
    "        \n",
    "        self.t_ref = time.Time(2454396.30662312, format='jd') #used in linares paper\n",
    "        \n",
    "        \n",
    "        \n",
    "        self.accel_factor = (self.T_max*self.nond_t)/(self.nond_m*self.nond_v)\n",
    "        self.mdot_factor = (self.T_max*self.nond_t)/(self.nond_m*self.c)\n",
    "        \n",
    "        self.dt = 14.38*u.day\n",
    "    \n",
    "    def get_final_loc(self, tof):\n",
    "        \n",
    "        date = self.t_ref + tof*self.nond_t\n",
    "        \n",
    "        ss_mars  = Orbit.from_body_ephem(Mars, date)\n",
    "        \n",
    "        r1, v1 = ss_mars.rv()\n",
    "        \n",
    "        r1 = (r1/self.nond_l).decompose().value\n",
    "        v1 = (v1/self.nond_v).decompose().value\n",
    "        \n",
    "        return r1, v1\n",
    "    \n",
    "    def reset(self):\n",
    "        \n",
    "        date_launch = time.Time(2454396.30662312, format='jd') #used in linares paper\n",
    "        \n",
    "        self.t_ref = date_launch\n",
    "        \n",
    "        #todo: if we change the t_ref and date_launch, we need to update this.\n",
    "        tof = 0. #((date_launch - self.t_ref)/self.nond_t).decompose().value #non dimensional flight time elapsed\n",
    "        \n",
    "        \n",
    "        ss_earth = Orbit.from_body_ephem(Earth, date_launch)\n",
    "        ss_mars  = Orbit.from_body_ephem(Mars,  date_launch)\n",
    "\n",
    "        r0, v0 = ss_earth.rv()\n",
    "        r1, v1 = ss_mars.rv()\n",
    "        \n",
    "        r0 = (r0/self.nond_l).decompose().value\n",
    "        v0 = (v0/self.nond_v).decompose().value\n",
    "        \n",
    "        r1 = (r1/self.nond_l).decompose().value\n",
    "        v1 = (v1/self.nond_v).decompose().value\n",
    "        \n",
    "        m = 1.\n",
    "        \n",
    "        state = np.array(r0)\n",
    "        state = np.append(state, v0)\n",
    "        state = np.append(state, m)\n",
    "        state = np.append(state, r1-r0)\n",
    "        state = np.append(state, v1-v0)\n",
    "        state = np.append(state, tof)\n",
    "        \n",
    "        return state\n",
    "    \n",
    "    def step(self, state, action):\n",
    "        \n",
    "        r0 = state[:3]\n",
    "        v0 = state[3:6]\n",
    "        m  = state[6]\n",
    "        rd = state[7:10]\n",
    "        vd = state[10:13]\n",
    "        tof = state[13]\n",
    "        \n",
    "        dt = self.dt\n",
    "        \n",
    "        # action represents the thrust in the three directions (non-dimensionalized)\n",
    "        \n",
    "        \n",
    "        # ---- dynamics\n",
    "        a = (thrust/m)*self.accel_factor\n",
    "        \n",
    "        r0dot = v0\n",
    "        v0dot = a - r0*np.linalg.norm(r0)**-3\n",
    "        mdot  = thrust*self.mdot_factor\n",
    "\n",
    "        \n",
    "        newr0 = r0 + r0dot*dt\n",
    "    \n",
    "        #todo\n",
    "        \n",
    "        "
   ]
  },
  {
   "cell_type": "code",
   "execution_count": 110,
   "metadata": {},
   "outputs": [],
   "source": [
    "env = Env()"
   ]
  },
  {
   "cell_type": "code",
   "execution_count": 111,
   "metadata": {},
   "outputs": [],
   "source": [
    "s = env.reset()"
   ]
  },
  {
   "cell_type": "code",
   "execution_count": 112,
   "metadata": {},
   "outputs": [
    {
     "data": {
      "text/plain": [
       "array([ 0.87176682,  0.4458208 ,  0.19318943, -0.50019317,  0.79956144,\n",
       "        0.34660095,  1.        , -0.12686006,  0.7456648 ,  0.33300161,\n",
       "       -0.17496311, -0.37519576, -0.13372221,  0.        ])"
      ]
     },
     "execution_count": 112,
     "metadata": {},
     "output_type": "execute_result"
    }
   ],
   "source": [
    "s"
   ]
  },
  {
   "cell_type": "code",
   "execution_count": 113,
   "metadata": {},
   "outputs": [
    {
     "data": {
      "text/plain": [
       "array([-0.50019317,  0.79956144,  0.34660095])"
      ]
     },
     "execution_count": 113,
     "metadata": {},
     "output_type": "execute_result"
    }
   ],
   "source": [
    "s[3:6]"
   ]
  },
  {
   "cell_type": "code",
   "execution_count": 117,
   "metadata": {},
   "outputs": [],
   "source": [
    "T_max = 2*u.N"
   ]
  },
  {
   "cell_type": "code",
   "execution_count": 118,
   "metadata": {},
   "outputs": [
    {
     "data": {
      "text/latex": [
       "$525.2 \\; \\mathrm{kg}$"
      ],
      "text/plain": [
       "<Quantity 525.2 kg>"
      ]
     },
     "execution_count": 118,
     "metadata": {},
     "output_type": "execute_result"
    }
   ],
   "source": [
    "env.nond_m"
   ]
  },
  {
   "cell_type": "code",
   "execution_count": 119,
   "metadata": {},
   "outputs": [
    {
     "data": {
      "text/latex": [
       "$0.64216179 \\; \\mathrm{}$"
      ],
      "text/plain": [
       "<Quantity 0.64216179>"
      ]
     },
     "execution_count": 119,
     "metadata": {},
     "output_type": "execute_result"
    }
   ],
   "source": [
    "(T_max*env.nond_t/(env.nond_m*env.nond_v)).decompose()"
   ]
  },
  {
   "cell_type": "code",
   "execution_count": 71,
   "metadata": {},
   "outputs": [
    {
     "data": {
      "text/plain": [
       "2.0277777777777777"
      ]
     },
     "execution_count": 71,
     "metadata": {},
     "output_type": "execute_result"
    }
   ],
   "source": [
    "(date_launch2 - date_launch).to(u.day).value"
   ]
  },
  {
   "cell_type": "code",
   "execution_count": 123,
   "metadata": {},
   "outputs": [
    {
     "data": {
      "text/plain": [
       "array([0.87176682, 0.4458208 , 0.19318943])"
      ]
     },
     "execution_count": 123,
     "metadata": {},
     "output_type": "execute_result"
    }
   ],
   "source": [
    "r0 = s[:3]\n",
    "r0"
   ]
  },
  {
   "cell_type": "code",
   "execution_count": 129,
   "metadata": {},
   "outputs": [
    {
     "data": {
      "text/plain": [
       "1.0059457080065208"
      ]
     },
     "execution_count": 129,
     "metadata": {},
     "output_type": "execute_result"
    }
   ],
   "source": []
  },
  {
   "cell_type": "code",
   "execution_count": null,
   "metadata": {},
   "outputs": [],
   "source": []
  },
  {
   "cell_type": "code",
   "execution_count": null,
   "metadata": {},
   "outputs": [],
   "source": []
  },
  {
   "cell_type": "code",
   "execution_count": null,
   "metadata": {},
   "outputs": [],
   "source": []
  },
  {
   "cell_type": "code",
   "execution_count": 70,
   "metadata": {},
   "outputs": [],
   "source": [
    "date_launch = time.Time(\"2011-11-26 15:02\", scale=\"utc\")\n",
    "date_launch2 = time.Time(\"2011-11-28 15:42\", scale=\"utc\")"
   ]
  },
  {
   "cell_type": "code",
   "execution_count": 31,
   "metadata": {},
   "outputs": [],
   "source": [
    "ss_mars2 = Orbit.from_horizons('Mars Barycenter', epoch=date_launch, id_type='majorbody')"
   ]
  },
  {
   "cell_type": "code",
   "execution_count": 32,
   "metadata": {},
   "outputs": [
    {
     "data": {
      "text/latex": [
       "$[-0.8198083,~1.276173,~0.60748717] \\; \\mathrm{AU}$"
      ],
      "text/plain": [
       "<Quantity [-0.8198083 ,  1.27617303,  0.60748717] AU>"
      ]
     },
     "execution_count": 32,
     "metadata": {},
     "output_type": "execute_result"
    }
   ],
   "source": [
    "ss_mars2.r.to(u.AU)"
   ]
  },
  {
   "cell_type": "code",
   "execution_count": 41,
   "metadata": {},
   "outputs": [
    {
     "name": "stderr",
     "output_type": "stream",
     "text": [
      "/Users/Devansh/anaconda3/lib/python3.6/site-packages/poliastro/twobody/orbit.py:389: TimeScaleWarning:\n",
      "\n",
      "Input time was converted to scale='tdb' with value 2011-11-26 15:03. Use Time(..., scale='tdb') instead.\n",
      "\n"
     ]
    }
   ],
   "source": [
    "ss_earth = Orbit.from_body_ephem(Earth, date_launch)\n",
    "ss_mars = Orbit.from_body_ephem(Mars, date_launch)"
   ]
  },
  {
   "cell_type": "code",
   "execution_count": 42,
   "metadata": {},
   "outputs": [
    {
     "data": {
      "text/plain": [
       "1 x 2 AU x 24.7 deg (ICRS) orbit around Sun (☉) at epoch 2011-11-26 15:03 (TDB)"
      ]
     },
     "execution_count": 42,
     "metadata": {},
     "output_type": "execute_result"
    }
   ],
   "source": [
    "ss_mars"
   ]
  },
  {
   "cell_type": "code",
   "execution_count": 35,
   "metadata": {},
   "outputs": [
    {
     "data": {
      "text/plain": [
       "<Planes.EARTH_EQUATOR: 'Earth mean Equator and Equinox of epoch (J2000.0)'>"
      ]
     },
     "execution_count": 35,
     "metadata": {},
     "output_type": "execute_result"
    }
   ],
   "source": [
    "ss_earth.plane"
   ]
  },
  {
   "cell_type": "code",
   "execution_count": 37,
   "metadata": {},
   "outputs": [
    {
     "data": {
      "application/vnd.jupyter.widget-view+json": {
       "model_id": "b4e1553e17be469dbb336ba00f10df36",
       "version_major": 2,
       "version_minor": 0
      },
      "text/plain": [
       "FigureWidget({\n",
       "    'data': [{'line': {'color': 'red', 'dash': 'dash', 'width': 5},\n",
       "              'mode': 'line…"
      ]
     },
     "metadata": {},
     "output_type": "display_data"
    }
   ],
   "source": [
    "plotter = OrbitPlotter3D()\n",
    "plotter.plot(ss_mars2, label=\"Mars2\", color=\"red\")\n",
    "plotter.plot(ss_earth, label=\"Earth\", color=\"navy\")\n",
    "plotter.plot(ss_mars, label=\"Mars\", color=\"red\")\n",
    "\n"
   ]
  },
  {
   "cell_type": "code",
   "execution_count": 38,
   "metadata": {},
   "outputs": [
    {
     "data": {
      "text/latex": [
       "$[-0.82320444,~1.2751018,~0.60702505] \\; \\mathrm{AU}$"
      ],
      "text/plain": [
       "<Quantity [-0.82320444,  1.27510178,  0.60702505] AU>"
      ]
     },
     "execution_count": 38,
     "metadata": {},
     "output_type": "execute_result"
    }
   ],
   "source": [
    "ss_mars.r.to(u.AU)"
   ]
  },
  {
   "cell_type": "code",
   "execution_count": 39,
   "metadata": {},
   "outputs": [
    {
     "data": {
      "text/latex": [
       "$[-0.8198083,~1.276173,~0.60748717] \\; \\mathrm{AU}$"
      ],
      "text/plain": [
       "<Quantity [-0.8198083 ,  1.27617303,  0.60748717] AU>"
      ]
     },
     "execution_count": 39,
     "metadata": {},
     "output_type": "execute_result"
    }
   ],
   "source": [
    "ss_mars2.r.to(u.AU)"
   ]
  },
  {
   "cell_type": "code",
   "execution_count": 40,
   "metadata": {},
   "outputs": [
    {
     "data": {
      "text/plain": [
       "1 x 2 AU x 24.7 deg (ICRS) orbit around Sun (☉) at epoch 2011-11-26 15:03 (TDB)"
      ]
     },
     "execution_count": 40,
     "metadata": {},
     "output_type": "execute_result"
    }
   ],
   "source": [
    "ss_mars.to_icrs()"
   ]
  },
  {
   "cell_type": "code",
   "execution_count": null,
   "metadata": {},
   "outputs": [],
   "source": []
  }
 ],
 "metadata": {
  "kernelspec": {
   "display_name": "Python 3",
   "language": "python",
   "name": "python3"
  },
  "language_info": {
   "codemirror_mode": {
    "name": "ipython",
    "version": 3
   },
   "file_extension": ".py",
   "mimetype": "text/x-python",
   "name": "python",
   "nbconvert_exporter": "python",
   "pygments_lexer": "ipython3",
   "version": "3.6.7"
  }
 },
 "nbformat": 4,
 "nbformat_minor": 2
}

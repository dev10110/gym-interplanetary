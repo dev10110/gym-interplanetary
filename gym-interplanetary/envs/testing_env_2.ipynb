{
 "cells": [
  {
   "cell_type": "code",
   "execution_count": 77,
   "metadata": {},
   "outputs": [],
   "source": [
    "import poliastro as pa\n",
    "\n",
    "import astropy.units as u\n",
    "from astropy import time\n",
    "\n",
    "from poliastro.bodies import Earth, Mars, Sun\n",
    "from poliastro.twobody import Orbit\n",
    "\n",
    "from poliastro.plotting import OrbitPlotter3D\n",
    "from poliastro.util import norm\n",
    "\n",
    "import numpy as np"
   ]
  },
  {
   "cell_type": "code",
   "execution_count": 78,
   "metadata": {},
   "outputs": [
    {
     "data": {
      "text/plain": [
       "<ScienceState solar_system_ephemeris: 'jpl'>"
      ]
     },
     "execution_count": 78,
     "metadata": {},
     "output_type": "execute_result"
    }
   ],
   "source": [
    "import sys\n",
    "import warnings\n",
    "\n",
    "if not sys.warnoptions:\n",
    "    warnings.simplefilter(\"ignore\")\n",
    "    \n",
    "from astropy.coordinates import solar_system_ephemeris\n",
    "solar_system_ephemeris.set(\"jpl\")"
   ]
  },
  {
   "cell_type": "code",
   "execution_count": 283,
   "metadata": {},
   "outputs": [
    {
     "data": {
      "text/plain": [
       "1.7320508075688772"
      ]
     },
     "execution_count": 283,
     "metadata": {},
     "output_type": "execute_result"
    }
   ],
   "source": [
    "np.linalg.norm([1,1,1])"
   ]
  },
  {
   "cell_type": "code",
   "execution_count": 290,
   "metadata": {},
   "outputs": [],
   "source": [
    "class Env():\n",
    "    def __init__(self):\n",
    "        \n",
    "        self.tof_target = 302*u.day\n",
    "        self.dt = 10*u.day\n",
    "        \n",
    "        self.m0 = 525.2*u.kg\n",
    "        self.T_max = 0.5*u.N\n",
    "        self.c = 2500*10*u.m/u.s\n",
    "        \n",
    "        self.nond_l = (1*u.AU).decompose()\n",
    "        self.nond_v = ((Sun.k/self.nond_l)**0.5).decompose()\n",
    "        self.nond_t = (self.nond_l/self.nond_v).decompose()\n",
    "        \n",
    "        self.nond_m = self.m0\n",
    "        \n",
    "        self.reset()\n",
    "        \n",
    "    \n",
    "    def reset(self):\n",
    "        \n",
    "        #t_l  = time of launch\n",
    "        t_l = self.t_l = time.Time(2454396.30662312, format='jd') #used in linares paper\n",
    "        \n",
    "        tof = self.tof = 0.*u.day #((date_launch - self.t_ref)/self.nond_t).decompose().value #non dimensional flight time elapsed\n",
    "        \n",
    "        o_i = self.o_i = Orbit.from_body_ephem(Earth, t_l)\n",
    "        o_f = self.o_f = Orbit.from_body_ephem(Mars,  t_l)\n",
    "\n",
    "        r,  v  = self.r,  self.v  = o_i.rv() # state of satellite\n",
    "        rt, vt = self.rt, self.vt = o_f.rv() # t for target\n",
    "        \n",
    "        re = self.re = rt - r # e for error\n",
    "        ve = self.ve = vt - v\n",
    "        \n",
    "        m = self.m = self.m0\n",
    "        \n",
    "        state = self.state = [r, v, m, re, ve, tof]\n",
    "        \n",
    "        return self.n_d_state(state)\n",
    "    \n",
    "    def get_target_rv(self, t=None):\n",
    "        \n",
    "        # get target r, v at some specified time.\n",
    "        # if no time specified, use stored (launch time + tof)\n",
    "        \n",
    "        if not t:\n",
    "            t = self.t_l + self.tof\n",
    "        \n",
    "        o_f = Orbit.from_body_ephem(Mars,  t)\n",
    "        \n",
    "        return o_f.rv()\n",
    "        \n",
    "    \n",
    "    def n_d_state(self, state=None):\n",
    "        \n",
    "        if not state:\n",
    "            state = self.state\n",
    "            \n",
    "        r, v, m, re, ve, tof = state\n",
    "        \n",
    "        n_r   = (r  /self.nond_l).decompose().value\n",
    "        n_v   = (v  /self.nond_v).decompose().value\n",
    "        n_m   = (m  /self.nond_m).decompose().value\n",
    "        n_re  = (re /self.nond_l).decompose().value\n",
    "        n_ve  = (ve /self.nond_v).decompose().value\n",
    "        n_tof = (tof/self.nond_t).decompose().value\n",
    "        \n",
    "        n_state = np.concatenate([n_r, n_v, [n_m], n_re, n_ve, [n_tof]])\n",
    "        \n",
    "        return n_state\n",
    "        \n",
    "    def d_state(self, n_state):\n",
    "        \n",
    "        n_r  = n_state[:3]\n",
    "        n_v  = n_state[3:6]\n",
    "        n_m  = n_state[6]\n",
    "        n_re = n_state[7:10]\n",
    "        n_ve = n_state[10:13]\n",
    "        n_tof = n_state[13]\n",
    "        \n",
    "        r  = (n_r  * self.nond_l).to(u.AU)\n",
    "        v  = (n_v  * self.nond_v)\n",
    "        m  = (n_m  * self.nond_m)\n",
    "        re = (n_re * self.nond_l).to(u.AU)\n",
    "        ve = (n_ve * self.nond_v)\n",
    "        tof = (n_tof*self.nond_t).to(u.day)\n",
    "        \n",
    "        state = [r, v, m, re, ve, tof]\n",
    "        \n",
    "        return state\n",
    "        \n",
    "        \n",
    "    def step(self, n_T):\n",
    "        \n",
    "        done = False\n",
    "        info = None\n",
    "        \n",
    "        dt = self.dt\n",
    "        \n",
    "        \n",
    "        # ----- calc new state\n",
    "        \n",
    "        # action consists of thrust perc in each axis.\n",
    "        \n",
    "        a = (n_T*self.T_max)/(self.m)\n",
    "        \n",
    "        def create_ad(a):\n",
    "            # take in acceleration\n",
    "            # return dimensional acceleration\n",
    "            \n",
    "            def ad(t0, u_, k_):\n",
    "                \n",
    "                return a.to(u.km/u.s**2).value\n",
    "            \n",
    "            return ad\n",
    "        \n",
    "        ad = create_ad(a)\n",
    "        \n",
    "        \n",
    "        #return Sun.k, self.r, self.v, [dt.value]*dt.unit\n",
    "        rs, vs = pa.twobody.propagation.cowell(Sun.k, r=self.r, v=self.v, tofs=[dt.value]*dt.unit, ad=ad)\n",
    "        \n",
    "        r = self.r = rs[0]\n",
    "        v = self.v = vs[0]\n",
    "        m = self.m = self.m - (norm(n_T*self.T_max)/self.c)*dt\n",
    "        \n",
    "        self.tof += dt\n",
    "    \n",
    "        rt, vt = self.rt, self.vt = self.get_target_rv()\n",
    "        \n",
    "        re = self.re = rt - r\n",
    "        ve = self.ve = vt - v\n",
    "        \n",
    "        state = self.state = [r, v, m, re, ve, self.tof]\n",
    "        \n",
    "        \n",
    "        # ----- rewards\n",
    "        \n",
    "        c1, c2, c3, c4, c5, c6 = 0.5, -500, -0.05, -500, 0.25, 0\n",
    "        \n",
    "        norm_n_re = (norm(re)/self.nond_l).decompose().value\n",
    "        norm_n_ve = (norm(ve)/self.nond_v).decompose().value\n",
    "     \n",
    "        reward = - norm_n_re - norm_n_ve\n",
    "        \n",
    "        reward += c1*np.exp(c2*norm_n_re)\n",
    "        reward += c2*np.exp(c4*norm_n_ve)\n",
    "        \n",
    "        # mass reward\n",
    "        reward -= c5*(1-(m/self.nond_m).decompose().value)\n",
    "        \n",
    "        # time reward\n",
    "        reward -= c6*(abs(self.tof_target - self.tof)).to(u.day).value if norm_n_re < 0.25 else 0\n",
    "        \n",
    "        # constraints\n",
    "        \n",
    "        if np.linalg.norm(n_T) > 1:\n",
    "            reward -= 20*(np.linalg.norm(n_T))\n",
    "        \n",
    "        \n",
    "        \n",
    "        # ----- terminal condtions\n",
    "        \n",
    "        if norm(r) < 0.25*self.nond_l or norm(r) > 1.75*self.nond_l:\n",
    "            reward -= 20\n",
    "            done = True\n",
    "            info = {'reason':'norm r bounds'}\n",
    "        \n",
    "        # terminate if the tof is close to target tof\n",
    "        # todo: if the dt style is changed, change the dt def here\n",
    "        if self.tof > 1.5*self.tof_target:\n",
    "            done = True\n",
    "            info = {'reason':'tof bounds'}\n",
    "            \n",
    "        if self.m < 0.2*self.m0:\n",
    "            reward -= 20\n",
    "            done  = True\n",
    "            info = {'reason': 'm < 0.2*m0'}\n",
    "        \n",
    "        \n",
    "        return self.n_d_state(state), reward, done, info"
   ]
  },
  {
   "cell_type": "code",
   "execution_count": 291,
   "metadata": {},
   "outputs": [],
   "source": [
    "env = Env()"
   ]
  },
  {
   "cell_type": "code",
   "execution_count": 292,
   "metadata": {},
   "outputs": [
    {
     "data": {
      "text/plain": [
       "[<Quantity [1.30414460e+08, 6.66938419e+07, 2.89007281e+07] km>,\n",
       " <Quantity [-1287195.79845256,  2057589.32506894,   891941.97309473] km / d>,\n",
       " <Quantity 525.2 kg>,\n",
       " <Quantity [-1.89779947e+07,  1.11549866e+08,  4.98163312e+07] km>,\n",
       " <Quantity [-450249.60763693, -965527.79509938, -344120.37683866] km / d>,\n",
       " <Quantity 0. d>]"
      ]
     },
     "execution_count": 292,
     "metadata": {},
     "output_type": "execute_result"
    }
   ],
   "source": [
    "env.state"
   ]
  },
  {
   "cell_type": "code",
   "execution_count": 293,
   "metadata": {},
   "outputs": [
    {
     "data": {
      "text/plain": [
       "[<Quantity [0.87176682, 0.4458208 , 0.19318943] AU>,\n",
       " <Quantity [-14898.09951913,  23814.69126237,  10323.40246637] m / s>,\n",
       " <Quantity 525.2 kg>,\n",
       " <Quantity [-0.12686006,  0.7456648 ,  0.33300161] AU>,\n",
       " <Quantity [ -5211.22231061, -11175.09022106,  -3982.87473193] m / s>,\n",
       " <Quantity 0. d>]"
      ]
     },
     "execution_count": 293,
     "metadata": {},
     "output_type": "execute_result"
    }
   ],
   "source": [
    "env.d_state(env.n_d_state())"
   ]
  },
  {
   "cell_type": "code",
   "execution_count": 294,
   "metadata": {},
   "outputs": [
    {
     "data": {
      "text/plain": [
       "[<Quantity [1.30414460e+08, 6.66938419e+07, 2.89007281e+07] km>,\n",
       " <Quantity [-1287195.79845256,  2057589.32506894,   891941.97309473] km / d>]"
      ]
     },
     "execution_count": 294,
     "metadata": {},
     "output_type": "execute_result"
    }
   ],
   "source": [
    "[env.r, env.v]"
   ]
  },
  {
   "cell_type": "code",
   "execution_count": 295,
   "metadata": {
    "scrolled": false
   },
   "outputs": [
    {
     "name": "stdout",
     "output_type": "stream",
     "text": [
      "-1.1628726488084977 0.9964096046052693\n",
      "-1.0679560562337547 0.8655869920420642\n",
      "-0.9736797133116051 0.7402134151720583\n",
      "-0.8891130683619697 0.9191269196081318\n",
      "-23.91666930786979 1.1547009742971948\n",
      "-0.7635157966845529 0.9515760288091367\n",
      "-0.715453489056304 0.3138612121541963\n",
      "-0.6836613325180937 0.755660048247952\n",
      "-0.687303158769589 0.8752773782078747\n",
      "-28.237012336182158 1.3765101580821966\n",
      "-0.7724257480395386 0.3477033689429113\n",
      "-26.758334835761108 1.2955058752473199\n",
      "-27.4492457649571 1.324469269752086\n",
      "-1.0772422189535877 0.6704696334301561\n",
      "-1.1875456079706945 0.9779806908471139\n",
      "-22.18059644201944 1.0411609949417076\n",
      "-25.048964752036117 1.175476557336513\n",
      "-1.7591723194814217 0.7649649929895617\n",
      "-2.0037293793497812 0.7554456986863043\n",
      "-2.3364565300343765 0.9811854298395021\n",
      "-28.133109934841414 1.2641420430408818\n",
      "-3.6265783450458877 0.9261362059479005\n",
      "-25.373952460896167 0.8740650177532372\n",
      "229.99999999999997 d -226.80459124718294 {'reason': 'norm r bounds'}\n"
     ]
    }
   ],
   "source": [
    "s = env.reset()\n",
    "R = 0\n",
    "\n",
    "tof = 0\n",
    "\n",
    "while tof < env.tof_target:\n",
    "    #n_T = np.array([0.1,0,0.])\n",
    "    n_T = np.random.rand(3)\n",
    "    s, r, d, info = env.step(n_T)\n",
    "    \n",
    "    print(r, np.linalg.norm(n_T))\n",
    "    \n",
    "    R += r\n",
    "    \n",
    "    if d:\n",
    "        break\n",
    "        \n",
    "print(s[-1]*env.nond_t.to(u.day), R, info)"
   ]
  },
  {
   "cell_type": "code",
   "execution_count": 255,
   "metadata": {},
   "outputs": [
    {
     "data": {
      "text/plain": [
       "[<Quantity [-0.01736569,  1.38105019,  0.59865337] AU>,\n",
       " <Quantity [-6714.37131983, -9026.65145535, -3911.65693919] m / s>,\n",
       " <Quantity 207.248 kg>,\n",
       " <Quantity [ 0.3221528 , -2.64438458, -1.18653383] AU>,\n",
       " <Quantity [31286.49837586, 15882.56922015,  6392.5944145 ] m / s>,\n",
       " <Quantity 460. d>]"
      ]
     },
     "execution_count": 255,
     "metadata": {},
     "output_type": "execute_result"
    }
   ],
   "source": [
    "env.d_state(s)"
   ]
  },
  {
   "cell_type": "code",
   "execution_count": 163,
   "metadata": {},
   "outputs": [],
   "source": [
    "def ad(t,u,k):\n",
    "    return ((n_T*env.T_max)/(env.m))"
   ]
  },
  {
   "cell_type": "code",
   "execution_count": 167,
   "metadata": {},
   "outputs": [
    {
     "data": {
      "text/plain": [
       "array([0., 0., 0.])"
      ]
     },
     "execution_count": 167,
     "metadata": {},
     "output_type": "execute_result"
    }
   ],
   "source": [
    "ad(0,0,0).to(u.km/u.s**2).value"
   ]
  },
  {
   "cell_type": "code",
   "execution_count": 152,
   "metadata": {},
   "outputs": [
    {
     "ename": "UnitConversionError",
     "evalue": "Can only apply 'add' function to dimensionless quantities when other argument is not a quantity (unless the latter is all zero/infinity/nan)",
     "output_type": "error",
     "traceback": [
      "\u001b[0;31m---------------------------------------------------------------------------\u001b[0m",
      "\u001b[0;31mUnitConversionError\u001b[0m                       Traceback (most recent call last)",
      "\u001b[0;32m<ipython-input-152-176ba3b488c2>\u001b[0m in \u001b[0;36m<module>\u001b[0;34m\u001b[0m\n\u001b[0;32m----> 1\u001b[0;31m \u001b[0mpa\u001b[0m\u001b[0;34m.\u001b[0m\u001b[0mtwobody\u001b[0m\u001b[0;34m.\u001b[0m\u001b[0mpropagation\u001b[0m\u001b[0;34m.\u001b[0m\u001b[0mcowell\u001b[0m\u001b[0;34m(\u001b[0m\u001b[0;34m*\u001b[0m\u001b[0mvec\u001b[0m\u001b[0;34m,\u001b[0m \u001b[0mad\u001b[0m\u001b[0;34m=\u001b[0m\u001b[0mad\u001b[0m\u001b[0;34m)\u001b[0m\u001b[0;34m\u001b[0m\u001b[0;34m\u001b[0m\u001b[0m\n\u001b[0m",
      "\u001b[0;32m~/anaconda3/lib/python3.6/site-packages/poliastro/twobody/propagation.py\u001b[0m in \u001b[0;36mcowell\u001b[0;34m(k, r, v, tofs, rtol, ad, **ad_kwargs)\u001b[0m\n\u001b[1;32m     78\u001b[0m         \u001b[0matol\u001b[0m\u001b[0;34m=\u001b[0m\u001b[0;36m1e-12\u001b[0m\u001b[0;34m,\u001b[0m\u001b[0;34m\u001b[0m\u001b[0;34m\u001b[0m\u001b[0m\n\u001b[1;32m     79\u001b[0m         \u001b[0mmethod\u001b[0m\u001b[0;34m=\u001b[0m\u001b[0mDOP835\u001b[0m\u001b[0;34m,\u001b[0m\u001b[0;34m\u001b[0m\u001b[0;34m\u001b[0m\u001b[0m\n\u001b[0;32m---> 80\u001b[0;31m         \u001b[0mdense_output\u001b[0m\u001b[0;34m=\u001b[0m\u001b[0;32mTrue\u001b[0m\u001b[0;34m,\u001b[0m\u001b[0;34m\u001b[0m\u001b[0;34m\u001b[0m\u001b[0m\n\u001b[0m\u001b[1;32m     81\u001b[0m     )\n\u001b[1;32m     82\u001b[0m     \u001b[0;32mif\u001b[0m \u001b[0;32mnot\u001b[0m \u001b[0mresult\u001b[0m\u001b[0;34m.\u001b[0m\u001b[0msuccess\u001b[0m\u001b[0;34m:\u001b[0m\u001b[0;34m\u001b[0m\u001b[0;34m\u001b[0m\u001b[0m\n",
      "\u001b[0;32m~/anaconda3/lib/python3.6/site-packages/scipy/integrate/_ivp/ivp.py\u001b[0m in \u001b[0;36msolve_ivp\u001b[0;34m(fun, t_span, y0, method, t_eval, dense_output, events, vectorized, **options)\u001b[0m\n\u001b[1;32m    475\u001b[0m         \u001b[0mmethod\u001b[0m \u001b[0;34m=\u001b[0m \u001b[0mMETHODS\u001b[0m\u001b[0;34m[\u001b[0m\u001b[0mmethod\u001b[0m\u001b[0;34m]\u001b[0m\u001b[0;34m\u001b[0m\u001b[0;34m\u001b[0m\u001b[0m\n\u001b[1;32m    476\u001b[0m \u001b[0;34m\u001b[0m\u001b[0m\n\u001b[0;32m--> 477\u001b[0;31m     \u001b[0msolver\u001b[0m \u001b[0;34m=\u001b[0m \u001b[0mmethod\u001b[0m\u001b[0;34m(\u001b[0m\u001b[0mfun\u001b[0m\u001b[0;34m,\u001b[0m \u001b[0mt0\u001b[0m\u001b[0;34m,\u001b[0m \u001b[0my0\u001b[0m\u001b[0;34m,\u001b[0m \u001b[0mtf\u001b[0m\u001b[0;34m,\u001b[0m \u001b[0mvectorized\u001b[0m\u001b[0;34m=\u001b[0m\u001b[0mvectorized\u001b[0m\u001b[0;34m,\u001b[0m \u001b[0;34m**\u001b[0m\u001b[0moptions\u001b[0m\u001b[0;34m)\u001b[0m\u001b[0;34m\u001b[0m\u001b[0;34m\u001b[0m\u001b[0m\n\u001b[0m\u001b[1;32m    478\u001b[0m \u001b[0;34m\u001b[0m\u001b[0m\n\u001b[1;32m    479\u001b[0m     \u001b[0;32mif\u001b[0m \u001b[0mt_eval\u001b[0m \u001b[0;32mis\u001b[0m \u001b[0;32mNone\u001b[0m\u001b[0;34m:\u001b[0m\u001b[0;34m\u001b[0m\u001b[0;34m\u001b[0m\u001b[0m\n",
      "\u001b[0;32m~/anaconda3/lib/python3.6/site-packages/poliastro/integrators.py\u001b[0m in \u001b[0;36m__init__\u001b[0;34m(self, fun, t0, y0, t_bound, max_step, rtol, atol, safety_factor, min_step_change, max_step_change, beta_stabilizer, max_nsteps, vectorized, **extraneous)\u001b[0m\n\u001b[1;32m    373\u001b[0m         \u001b[0mself\u001b[0m\u001b[0;34m.\u001b[0m\u001b[0morder\u001b[0m \u001b[0;34m=\u001b[0m \u001b[0;36m8\u001b[0m\u001b[0;34m\u001b[0m\u001b[0;34m\u001b[0m\u001b[0m\n\u001b[1;32m    374\u001b[0m \u001b[0;34m\u001b[0m\u001b[0m\n\u001b[0;32m--> 375\u001b[0;31m         \u001b[0mself\u001b[0m\u001b[0;34m.\u001b[0m\u001b[0mf\u001b[0m \u001b[0;34m=\u001b[0m \u001b[0mself\u001b[0m\u001b[0;34m.\u001b[0m\u001b[0mfun\u001b[0m\u001b[0;34m(\u001b[0m\u001b[0mself\u001b[0m\u001b[0;34m.\u001b[0m\u001b[0mt\u001b[0m\u001b[0;34m,\u001b[0m \u001b[0mself\u001b[0m\u001b[0;34m.\u001b[0m\u001b[0my\u001b[0m\u001b[0;34m)\u001b[0m\u001b[0;34m\u001b[0m\u001b[0;34m\u001b[0m\u001b[0m\n\u001b[0m\u001b[1;32m    376\u001b[0m         self.h_abs = select_initial_step(\n\u001b[1;32m    377\u001b[0m             \u001b[0mself\u001b[0m\u001b[0;34m.\u001b[0m\u001b[0mfun\u001b[0m\u001b[0;34m,\u001b[0m\u001b[0;34m\u001b[0m\u001b[0;34m\u001b[0m\u001b[0m\n",
      "\u001b[0;32m~/anaconda3/lib/python3.6/site-packages/scipy/integrate/_ivp/base.py\u001b[0m in \u001b[0;36mfun\u001b[0;34m(t, y)\u001b[0m\n\u001b[1;32m    137\u001b[0m         \u001b[0;32mdef\u001b[0m \u001b[0mfun\u001b[0m\u001b[0;34m(\u001b[0m\u001b[0mt\u001b[0m\u001b[0;34m,\u001b[0m \u001b[0my\u001b[0m\u001b[0;34m)\u001b[0m\u001b[0;34m:\u001b[0m\u001b[0;34m\u001b[0m\u001b[0;34m\u001b[0m\u001b[0m\n\u001b[1;32m    138\u001b[0m             \u001b[0mself\u001b[0m\u001b[0;34m.\u001b[0m\u001b[0mnfev\u001b[0m \u001b[0;34m+=\u001b[0m \u001b[0;36m1\u001b[0m\u001b[0;34m\u001b[0m\u001b[0;34m\u001b[0m\u001b[0m\n\u001b[0;32m--> 139\u001b[0;31m             \u001b[0;32mreturn\u001b[0m \u001b[0mself\u001b[0m\u001b[0;34m.\u001b[0m\u001b[0mfun_single\u001b[0m\u001b[0;34m(\u001b[0m\u001b[0mt\u001b[0m\u001b[0;34m,\u001b[0m \u001b[0my\u001b[0m\u001b[0;34m)\u001b[0m\u001b[0;34m\u001b[0m\u001b[0;34m\u001b[0m\u001b[0m\n\u001b[0m\u001b[1;32m    140\u001b[0m \u001b[0;34m\u001b[0m\u001b[0m\n\u001b[1;32m    141\u001b[0m         \u001b[0mself\u001b[0m\u001b[0;34m.\u001b[0m\u001b[0mfun\u001b[0m \u001b[0;34m=\u001b[0m \u001b[0mfun\u001b[0m\u001b[0;34m\u001b[0m\u001b[0;34m\u001b[0m\u001b[0m\n",
      "\u001b[0;32m~/anaconda3/lib/python3.6/site-packages/scipy/integrate/_ivp/base.py\u001b[0m in \u001b[0;36mfun_wrapped\u001b[0;34m(t, y)\u001b[0m\n\u001b[1;32m     19\u001b[0m \u001b[0;34m\u001b[0m\u001b[0m\n\u001b[1;32m     20\u001b[0m     \u001b[0;32mdef\u001b[0m \u001b[0mfun_wrapped\u001b[0m\u001b[0;34m(\u001b[0m\u001b[0mt\u001b[0m\u001b[0;34m,\u001b[0m \u001b[0my\u001b[0m\u001b[0;34m)\u001b[0m\u001b[0;34m:\u001b[0m\u001b[0;34m\u001b[0m\u001b[0;34m\u001b[0m\u001b[0m\n\u001b[0;32m---> 21\u001b[0;31m         \u001b[0;32mreturn\u001b[0m \u001b[0mnp\u001b[0m\u001b[0;34m.\u001b[0m\u001b[0masarray\u001b[0m\u001b[0;34m(\u001b[0m\u001b[0mfun\u001b[0m\u001b[0;34m(\u001b[0m\u001b[0mt\u001b[0m\u001b[0;34m,\u001b[0m \u001b[0my\u001b[0m\u001b[0;34m)\u001b[0m\u001b[0;34m,\u001b[0m \u001b[0mdtype\u001b[0m\u001b[0;34m=\u001b[0m\u001b[0mdtype\u001b[0m\u001b[0;34m)\u001b[0m\u001b[0;34m\u001b[0m\u001b[0;34m\u001b[0m\u001b[0m\n\u001b[0m\u001b[1;32m     22\u001b[0m \u001b[0;34m\u001b[0m\u001b[0m\n\u001b[1;32m     23\u001b[0m     \u001b[0;32mreturn\u001b[0m \u001b[0mfun_wrapped\u001b[0m\u001b[0;34m,\u001b[0m \u001b[0my0\u001b[0m\u001b[0;34m\u001b[0m\u001b[0;34m\u001b[0m\u001b[0m\n",
      "\u001b[0;32m~/anaconda3/lib/python3.6/site-packages/poliastro/core/propagation.py\u001b[0m in \u001b[0;36mfunc_twobody\u001b[0;34m(t0, u_, k, ad, ad_kwargs)\u001b[0m\n\u001b[1;32m     32\u001b[0m     \u001b[0mr3\u001b[0m \u001b[0;34m=\u001b[0m \u001b[0;34m(\u001b[0m\u001b[0mx\u001b[0m \u001b[0;34m**\u001b[0m \u001b[0;36m2\u001b[0m \u001b[0;34m+\u001b[0m \u001b[0my\u001b[0m \u001b[0;34m**\u001b[0m \u001b[0;36m2\u001b[0m \u001b[0;34m+\u001b[0m \u001b[0mz\u001b[0m \u001b[0;34m**\u001b[0m \u001b[0;36m2\u001b[0m\u001b[0;34m)\u001b[0m \u001b[0;34m**\u001b[0m \u001b[0;36m1.5\u001b[0m\u001b[0;34m\u001b[0m\u001b[0;34m\u001b[0m\u001b[0m\n\u001b[1;32m     33\u001b[0m \u001b[0;34m\u001b[0m\u001b[0m\n\u001b[0;32m---> 34\u001b[0;31m     \u001b[0mdu\u001b[0m \u001b[0;34m=\u001b[0m \u001b[0mnp\u001b[0m\u001b[0;34m.\u001b[0m\u001b[0marray\u001b[0m\u001b[0;34m(\u001b[0m\u001b[0;34m[\u001b[0m\u001b[0mvx\u001b[0m\u001b[0;34m,\u001b[0m \u001b[0mvy\u001b[0m\u001b[0;34m,\u001b[0m \u001b[0mvz\u001b[0m\u001b[0;34m,\u001b[0m \u001b[0;34m-\u001b[0m\u001b[0mk\u001b[0m \u001b[0;34m*\u001b[0m \u001b[0mx\u001b[0m \u001b[0;34m/\u001b[0m \u001b[0mr3\u001b[0m \u001b[0;34m+\u001b[0m \u001b[0max\u001b[0m\u001b[0;34m,\u001b[0m \u001b[0;34m-\u001b[0m\u001b[0mk\u001b[0m \u001b[0;34m*\u001b[0m \u001b[0my\u001b[0m \u001b[0;34m/\u001b[0m \u001b[0mr3\u001b[0m \u001b[0;34m+\u001b[0m \u001b[0may\u001b[0m\u001b[0;34m,\u001b[0m \u001b[0;34m-\u001b[0m\u001b[0mk\u001b[0m \u001b[0;34m*\u001b[0m \u001b[0mz\u001b[0m \u001b[0;34m/\u001b[0m \u001b[0mr3\u001b[0m \u001b[0;34m+\u001b[0m \u001b[0maz\u001b[0m\u001b[0;34m]\u001b[0m\u001b[0;34m)\u001b[0m\u001b[0;34m\u001b[0m\u001b[0;34m\u001b[0m\u001b[0m\n\u001b[0m\u001b[1;32m     35\u001b[0m     \u001b[0;32mreturn\u001b[0m \u001b[0mdu\u001b[0m\u001b[0;34m\u001b[0m\u001b[0;34m\u001b[0m\u001b[0m\n\u001b[1;32m     36\u001b[0m \u001b[0;34m\u001b[0m\u001b[0m\n",
      "\u001b[0;32m~/anaconda3/lib/python3.6/site-packages/astropy/units/quantity.py\u001b[0m in \u001b[0;36m__array_ufunc__\u001b[0;34m(self, function, method, *inputs, **kwargs)\u001b[0m\n\u001b[1;32m    444\u001b[0m         \u001b[0;31m# consistent units between two inputs (e.g., in np.add) --\u001b[0m\u001b[0;34m\u001b[0m\u001b[0;34m\u001b[0m\u001b[0;34m\u001b[0m\u001b[0m\n\u001b[1;32m    445\u001b[0m         \u001b[0;31m# and the unit of the result (or tuple of units for nout > 1).\u001b[0m\u001b[0;34m\u001b[0m\u001b[0;34m\u001b[0m\u001b[0;34m\u001b[0m\u001b[0m\n\u001b[0;32m--> 446\u001b[0;31m         \u001b[0mconverters\u001b[0m\u001b[0;34m,\u001b[0m \u001b[0munit\u001b[0m \u001b[0;34m=\u001b[0m \u001b[0mconverters_and_unit\u001b[0m\u001b[0;34m(\u001b[0m\u001b[0mfunction\u001b[0m\u001b[0;34m,\u001b[0m \u001b[0mmethod\u001b[0m\u001b[0;34m,\u001b[0m \u001b[0;34m*\u001b[0m\u001b[0minputs\u001b[0m\u001b[0;34m)\u001b[0m\u001b[0;34m\u001b[0m\u001b[0;34m\u001b[0m\u001b[0m\n\u001b[0m\u001b[1;32m    447\u001b[0m \u001b[0;34m\u001b[0m\u001b[0m\n\u001b[1;32m    448\u001b[0m         \u001b[0mout\u001b[0m \u001b[0;34m=\u001b[0m \u001b[0mkwargs\u001b[0m\u001b[0;34m.\u001b[0m\u001b[0mget\u001b[0m\u001b[0;34m(\u001b[0m\u001b[0;34m'out'\u001b[0m\u001b[0;34m,\u001b[0m \u001b[0;32mNone\u001b[0m\u001b[0;34m)\u001b[0m\u001b[0;34m\u001b[0m\u001b[0;34m\u001b[0m\u001b[0m\n",
      "\u001b[0;32m~/anaconda3/lib/python3.6/site-packages/astropy/units/quantity_helper/converters.py\u001b[0m in \u001b[0;36mconverters_and_unit\u001b[0;34m(function, method, *args)\u001b[0m\n\u001b[1;32m    187\u001b[0m                             \u001b[0;34m\"argument is not a quantity (unless the \"\u001b[0m\u001b[0;34m\u001b[0m\u001b[0;34m\u001b[0m\u001b[0m\n\u001b[1;32m    188\u001b[0m                             \u001b[0;34m\"latter is all zero/infinity/nan)\"\u001b[0m\u001b[0;34m\u001b[0m\u001b[0;34m\u001b[0m\u001b[0m\n\u001b[0;32m--> 189\u001b[0;31m                             .format(function.__name__))\n\u001b[0m\u001b[1;32m    190\u001b[0m             \u001b[0;32mexcept\u001b[0m \u001b[0mTypeError\u001b[0m\u001b[0;34m:\u001b[0m\u001b[0;34m\u001b[0m\u001b[0;34m\u001b[0m\u001b[0m\n\u001b[1;32m    191\u001b[0m                 \u001b[0;31m# _can_have_arbitrary_unit failed: arg could not be compared\u001b[0m\u001b[0;34m\u001b[0m\u001b[0;34m\u001b[0m\u001b[0;34m\u001b[0m\u001b[0m\n",
      "\u001b[0;31mUnitConversionError\u001b[0m: Can only apply 'add' function to dimensionless quantities when other argument is not a quantity (unless the latter is all zero/infinity/nan)"
     ]
    }
   ],
   "source": [
    "pa.twobody.propagation.cowell(*vec, ad=ad)"
   ]
  },
  {
   "cell_type": "code",
   "execution_count": null,
   "metadata": {},
   "outputs": [],
   "source": []
  }
 ],
 "metadata": {
  "kernelspec": {
   "display_name": "Python 3",
   "language": "python",
   "name": "python3"
  },
  "language_info": {
   "codemirror_mode": {
    "name": "ipython",
    "version": 3
   },
   "file_extension": ".py",
   "mimetype": "text/x-python",
   "name": "python",
   "nbconvert_exporter": "python",
   "pygments_lexer": "ipython3",
   "version": "3.6.7"
  }
 },
 "nbformat": 4,
 "nbformat_minor": 2
}
